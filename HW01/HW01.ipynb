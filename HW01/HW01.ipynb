{
 "cells": [
  {
   "cell_type": "code",
   "id": "initial_id",
   "metadata": {
    "collapsed": true,
    "jupyter": {
     "is_executing": true
    }
   },
   "source": [
    "import pandas as pd\n",
    "import seaborn as sns\n",
    "import matplotlib.pyplot as plt\n",
    "\n",
    "\"\"\" 1. Contest data \"\"\"\n",
    "# A\n",
    "data_csv = pd.read_csv(\"C:contestants.csv\", header=0)\n",
    "data_csv.set_index('to_country_id', drop=False)\n",
    "comp_num = data_csv.groupby('to_country_id')['year'].count()\n",
    "place_median = data_csv.groupby('to_country_id')['place_final'].median()\n",
    "num_first = data_csv[data_csv['place_final'] == 1].groupby('to_country_id')['place_final'].count()\n",
    "prec = num_first / comp_num * 100\n",
    "final_data = pd.concat([comp_num, place_median, num_first, prec], axis='columns',\n",
    "                       keys=['compete_num', 'plac_final_med', 'first_place_num', 'first_place_for_compete'])\n",
    "final_data.fillna(value=0, inplace=True)\n",
    "final_data.sort_values(by='first_place_for_compete', inplace=True, ascending=False)\n",
    "\n",
    "# b\n",
    "artists = data_csv.groupby('performer').count()\n",
    "print(f\"The performer that compete more than 3 times is: {'  -'.join(artists[artists['year'] > 3].index.tolist())}\",\n",
    "      end='\\n\\n')\n",
    "\n",
    "# c\n",
    "composers = data_csv.groupby('composers').count()\n",
    "print(\n",
    "    f\"The composers that composed more than 3 songs are: {'  -'.join(composers[composers['year'] > 3].index.tolist())}\",\n",
    "    end='\\n\\n')\n",
    "\n",
    "# d\n",
    "israel_placing = data_csv[data_csv['to_country'] == 'Israel']['place_final'].value_counts().sort_values(ascending=False)\n",
    "print(f\"Israel placing: \\n{israel_placing}\", end='\\n\\n')\n",
    "\n",
    "\"\"\" 2. Creating dictionary to convert Country's name from short to long \"\"\"\n",
    "codeToCountry = data_csv[['to_country_id', 'to_country']]\n",
    "codeToCountry = codeToCountry.drop_duplicates(keep='first', ignore_index=True)\n",
    "codes = codeToCountry['to_country_id'].to_frame()\n",
    "names = codeToCountry['to_country'].to_frame()\n",
    "\n",
    "code_to_country = {}\n",
    "for key, value in zip(codes.values, names.values):\n",
    "    code_to_country[key[0]] = value[0]\n",
    "code_to_country['ad'] = 'Audience'\n",
    "code_to_country['wld'] = 'World'\n",
    "\n",
    "\"\"\" 3. Analysis of the politicization of the Eurovision \"\"\"\n",
    "votes = pd.read_csv(\n",
    "    \"C:votes.csv\",\n",
    "    header=0)\n",
    "votes.drop(votes[votes['round'] != 'final'].index, inplace=True)\n",
    "votes['from_country_id'] = votes['from_country_id'].apply(lambda x: code_to_country[x])\n",
    "votes['to_country_id'] = votes['to_country_id'].apply(lambda x: code_to_country[x])\n",
    "comp_num.rename(code_to_country, inplace=True)\n",
    "comp_over_30 = comp_num[comp_num >= 30]\n",
    "drop_index_to = votes.loc[votes['to_country_id'].apply(lambda x: x not in comp_over_30)].index\n",
    "votes.drop(index=drop_index_to, inplace=True)\n",
    "drop_index_from = votes.loc[votes['from_country_id'].apply(lambda x: x not in comp_over_30)].index\n",
    "votes.drop(index=drop_index_from, inplace=True)\n",
    "votes = votes[~((votes['jury_points'].isna()) & (votes['year'] > 1996))]\n",
    "for row in votes.iterrows():\n",
    "    if row[1]['year'] > 1996 and pd.notna(row[1]['jury_points']):\n",
    "        row[1]['total_points'] = row[1]['jury_points']\n",
    "votes.rename(columns={'from_country_id': 'from', 'to_country_id': 'to', 'total_points': 'points'}, inplace=True)\n",
    "votes.drop(columns=[x for x in votes.columns if x not in ['year', 'from', 'to', 'points']], inplace=True)\n",
    "\n",
    "# mean\n",
    "mean_points = votes.groupby(['year', 'to'])['points'].mean().reset_index()\n",
    "mean_points.rename(columns={'to': 'country', 'points': 'mean'}, inplace=True)\n",
    "mean_points['year.country'] = mean_points['year'].astype(str) + '.' + mean_points['country']\n",
    "mean_points.set_index('year.country', inplace=True)\n",
    "\n",
    "# norm\n",
    "votes = votes.merge(mean_points, left_on=['year', 'to'], right_on=['year', 'country'])\n",
    "votes['adjusted_points'] = votes['points'] - votes['mean']\n",
    "votes['above_average'] = votes['adjusted_points'] > 0\n",
    "votes.loc[votes['from'] == votes['to'], 'above_average'] = True\n",
    "from_to_above_average = votes.groupby(['from', 'to'])['above_average'].mean().unstack(fill_value=0)\n",
    "\n",
    "\"\"\" 4. Create a matrix of scoring countries(rows) to scoring countries (columns) \"\"\"\n",
    "sns.clustermap(from_to_above_average, figsize=(6, 6))\n",
    "plt.show()\n",
    "\n",
    "israel = from_to_above_average['Israel'].drop('Israel').sort_values(ascending=False)\n",
    "sns.barplot(x=israel.values, y=israel.index, palette='coolwarm')\n",
    "mean_value = israel.mean()\n",
    "plt.axvline(mean_value, color='r', linestyle='--')\n",
    "plt.text(mean_value, len(israel) / 2, f'Average: {mean_value:.2f}', color='r', va='center')\n",
    "plt.title(\"The voting percentage of other countries for Israel\")\n",
    "plt.show()\n",
    "\n",
    "\n",
    "israel = from_to_above_average.loc['Israel'].drop('Israel').sort_values(ascending=False)\n",
    "sns.barplot(x=israel.values, y=israel.index, palette='coolwarm')\n",
    "mean_value = israel.mean()\n",
    "plt.axvline(mean_value, color='r', linestyle='--')\n",
    "plt.text(mean_value, len(israel) / 2, f'Average: {mean_value:.2f}', color='r', va='center')\n",
    "plt.title(\"The voting percentage from Israel to other countries\")\n",
    "plt.show()\n"
   ],
   "outputs": [],
   "execution_count": null
  },
  {
   "metadata": {
    "ExecuteTime": {
     "end_time": "2024-06-20T18:19:32.211703Z",
     "start_time": "2024-06-20T18:19:32.209023Z"
    }
   },
   "cell_type": "code",
   "source": "",
   "id": "b81702e1f2fa39de",
   "outputs": [],
   "execution_count": 38
  },
  {
   "metadata": {
    "ExecuteTime": {
     "end_time": "2024-06-20T18:19:32.214693Z",
     "start_time": "2024-06-20T18:19:32.212709Z"
    }
   },
   "cell_type": "code",
   "source": "",
   "id": "e35252b001065e3c",
   "outputs": [],
   "execution_count": 38
  }
 ],
 "metadata": {
  "kernelspec": {
   "display_name": "Python 3",
   "language": "python",
   "name": "python3"
  },
  "language_info": {
   "codemirror_mode": {
    "name": "ipython",
    "version": 2
   },
   "file_extension": ".py",
   "mimetype": "text/x-python",
   "name": "python",
   "nbconvert_exporter": "python",
   "pygments_lexer": "ipython2",
   "version": "2.7.6"
  }
 },
 "nbformat": 4,
 "nbformat_minor": 5
}
